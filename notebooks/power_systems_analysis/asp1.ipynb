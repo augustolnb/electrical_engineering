{
  "nbformat": 4,
  "nbformat_minor": 0,
  "metadata": {
    "colab": {
      "provenance": [],
      "authorship_tag": "ABX9TyOLFirVd0OfcifUxv+PrlWv",
      "include_colab_link": true
    },
    "kernelspec": {
      "name": "python3",
      "display_name": "Python 3"
    },
    "language_info": {
      "name": "python"
    }
  },
  "cells": [
    {
      "cell_type": "markdown",
      "metadata": {
        "id": "view-in-github",
        "colab_type": "text"
      },
      "source": [
        "<a href=\"https://colab.research.google.com/github/augustolnb/electrical_engineering/blob/main/asp1.ipynb\" target=\"_parent\"><img src=\"https://colab.research.google.com/assets/colab-badge.svg\" alt=\"Open In Colab\"/></a>"
      ]
    },
    {
      "cell_type": "code",
      "execution_count": null,
      "metadata": {
        "id": "ygrDYHSKooI1"
      },
      "outputs": [],
      "source": [
        "import math\n",
        "import numpy as np\n",
        "\n",
        "pi = math.pi\n",
        "\n",
        "def pol2rec(amp, fase):\n",
        "    amp = float(amp)\n",
        "    fase = float(fase)\n",
        "    real = amp*math.cos(fase/180*pi)\n",
        "    imag = amp*math.sin(fase/180*pi)\n",
        "    return complex(round(real,2),round(imag,2))\n",
        "\n",
        "def rec2pol(real, imag):\n",
        "    real = float(real)\n",
        "    imag = float(imag)\n",
        "    amp = math.sqrt(real**2 + imag**2)\n",
        "    fase = np.arctan(imag/real)*180/pi\n",
        "    return float(round(amp,2)), float(round(fase,2))"
      ]
    },
    {
      "cell_type": "code",
      "source": [
        "# Efetua soma e subtração de valores em coordenada polar\n",
        "\n",
        "def pol_sum(option):\n",
        "    lista_valores = []\n",
        "    lista_z = []\n",
        "    real_total = 0\n",
        "    imag_total = 0\n",
        "\n",
        "    quant = int(input(\"Quantidade de valores: \"))\n",
        "    \n",
        "    if str(option) == \"sum\":\n",
        "\n",
        "        for i in range(quant):\n",
        "            lista_valores.append(input())\n",
        "            amp, fase = lista_valores[i].split(\" \")\n",
        "            print(f\"Amp:{amp}  Fase:{fase}\")\n",
        "            lista_z.append(pol2rec(amp, fase))\n",
        "            real_total += lista_z[i].real\n",
        "            imag_total += lista_z[i].imag     \n",
        "       \n",
        "    elif str(option) == \"sub\":\n",
        "\n",
        "        for i in range(quant):\n",
        "            lista_valores.append(input())\n",
        "            amp, fase = lista_valores[i].split(\" \")\n",
        "            print(f\"Amp:{amp}  Fase:{fase}\")\n",
        "\n",
        "            lista_z.append(pol2rec(amp, fase))\n",
        "\n",
        "            if i == 0:\n",
        "                real_total = lista_z[i].real\n",
        "                imag_total = lista_z[i].imag\n",
        "            else:\n",
        "                real_total -= lista_z[i].real\n",
        "                imag_total -= lista_z[i].imag\n",
        "\n",
        "    else:\n",
        "        return int(0)\n",
        "\n",
        "    amp, fase = rec2pol(real_total, imag_total)\n",
        "\n",
        "    return complex(round(real_total,2), round(imag_total,2)), amp, fase"
      ],
      "metadata": {
        "id": "I0754qCrorrt"
      },
      "execution_count": null,
      "outputs": []
    },
    {
      "cell_type": "code",
      "source": [
        "# Efetua multiplicação e divisão de valores em coordenada retangular\n",
        "\n",
        "def rec_product(option):\n",
        "    lista_valores = []\n",
        "    amp_total = 0\n",
        "    fase_total = 0\n",
        "\n",
        "    quant = int(input(\"Quantidade de valores: \"))\n",
        "\n",
        "    if str(option) == \"product\":\n",
        "\n",
        "        for i in range(quant):\n",
        "            lista_valores.append(input())\n",
        "            real, imag = lista_valores[i].split(\" \")\n",
        "            #print(f\"Real:{real}  Imag:{imag}\")\n",
        "            amp, fase = rec2pol(real, imag)\n",
        "            #print(f\"Amplitude: {amp} Fase: {fase}\")\n",
        "            #print(f\"Amplitude: {type(amp)} Fase: {type(fase)}\")\n",
        "            \n",
        "            if i == 0:\n",
        "                amp_total = amp\n",
        "                fase_total = fase\n",
        "            else:\n",
        "                amp_total = amp_total * amp\n",
        "                fase_total += fase\n",
        "\n",
        "    elif str(option) == \"division\":\n",
        "\n",
        "        for i in range(quant):\n",
        "            lista_valores.append(input())\n",
        "            real, imag = lista_valores[i].split(\" \")\n",
        "            print(f\"Real:{real}  Imag:{imag}\")\n",
        "            amp, fase = rec2pol(real, imag)\n",
        "            print(f\"Amplitude: {amp} Fase: {fase}\")\n",
        "            print(f\"Amplitude: {type(amp)} Fase: {type(fase)}\")\n",
        "            \n",
        "            if i == 0:\n",
        "                amp_total = amp\n",
        "                fase_total = fase\n",
        "            else:\n",
        "                amp_total = amp_total / amp\n",
        "                fase_total -= fase\n",
        "\n",
        "    else:\n",
        "        return int(0)\n",
        "\n",
        "    numero_z = pol2rec(amp_total, fase_total)\n",
        "\n",
        "    return numero_z, amp_total, fase_total"
      ],
      "metadata": {
        "id": "aOQwIaUT-6ID"
      },
      "execution_count": null,
      "outputs": []
    },
    {
      "cell_type": "code",
      "source": [
        "opcao = int(input(\"\\t\\tCalculadora Multifuncional\\n\\t\\t1 -> Conversão pol2rec\\n\\t\\t2 -> Conversão rec2pol\\n\\t\\t3 -> Soma/Subtração de coord. polares\\n\\t\\t4 -> Multiplicação/Divisão de coord. retagulares\\n\"))\n",
        "\n",
        "if opcao == 1:\n",
        "    print(\"Polar -> retangular\\n\")\n",
        "    amp, fase = input().split(\" \")\n",
        "    print(pol2rec(amp, fase))\n",
        "\n",
        "elif opcao == 2:\n",
        "    print(\"\\nRetangular -> polar\\n\")\n",
        "    real, imag = input().split(\" \")\n",
        "    print(rec2pol(real, imag))\n",
        "\n",
        "elif opcao == 3:\n",
        "    print(\"\\nSoma/Subtração de polares\")\n",
        "    option = int(input(\"Soma [1] -- Subtração [2]: \"))\n",
        "    if option == 1:\n",
        "        z, amp, fase = pol_sum(\"sum\")\n",
        "    elif option == 2:\n",
        "        z, amp, fase = pol_sum(\"sub\")\n",
        "    else:\n",
        "        print(\"opção inválida\")\n",
        "\n",
        "elif opcao == 4:\n",
        "    print(\"\\nMultiplicação/Divisão de coord. retangulares\")\n",
        "    option = int(input(\"Multiplicação [1] -- Divisão [2]: \"))\n",
        "    if option == 1:\n",
        "        z, amp, fase = rec_product(\"product\")\n",
        "    elif option == 2:\n",
        "        z, amp, fase = rec_product(\"division\")\n",
        "    else:\n",
        "        print(\"opção inválida\")\n",
        "\n",
        "if opcao == 3 or opcao == 4:\n",
        "    print(f\"\\nResultado:\\nZ = {z}\\nAmplitude= {amp}\\nFase= {fase}\")"
      ],
      "metadata": {
        "id": "d6-TXGRtovIt",
        "colab": {
          "base_uri": "https://localhost:8080/",
          "height": 724
        },
        "outputId": "6db8d684-7117-4c3f-adbf-7b9c805aaad5"
      },
      "execution_count": null,
      "outputs": [
        {
          "name": "stdout",
          "output_type": "stream",
          "text": [
            "\t\tCalculadora Multifuncional\n",
            "\t\t1 -> Conversão pol2rec\n",
            "\t\t2 -> Conversão rec2pol\n",
            "\t\t3 -> Soma/Subtração de coord. polares\n",
            "\t\t4 -> Multiplicação/Divisão de coord. retagulares\n",
            "3\n",
            "\n",
            "Soma/Subtração de polares\n",
            "Soma [1] -- Subtração [2]: 2\n",
            "Quantidade de valores: 2\n",
            "0.366\n"
          ]
        },
        {
          "output_type": "error",
          "ename": "ValueError",
          "evalue": "ignored",
          "traceback": [
            "\u001b[0;31m---------------------------------------------------------------------------\u001b[0m",
            "\u001b[0;31mValueError\u001b[0m                                Traceback (most recent call last)",
            "\u001b[0;32m<ipython-input-4-6b50e6c927be>\u001b[0m in \u001b[0;36m<module>\u001b[0;34m\u001b[0m\n\u001b[1;32m     17\u001b[0m         \u001b[0mz\u001b[0m\u001b[0;34m,\u001b[0m \u001b[0mamp\u001b[0m\u001b[0;34m,\u001b[0m \u001b[0mfase\u001b[0m \u001b[0;34m=\u001b[0m \u001b[0mpol_sum\u001b[0m\u001b[0;34m(\u001b[0m\u001b[0;34m\"sum\"\u001b[0m\u001b[0;34m)\u001b[0m\u001b[0;34m\u001b[0m\u001b[0;34m\u001b[0m\u001b[0m\n\u001b[1;32m     18\u001b[0m     \u001b[0;32melif\u001b[0m \u001b[0moption\u001b[0m \u001b[0;34m==\u001b[0m \u001b[0;36m2\u001b[0m\u001b[0;34m:\u001b[0m\u001b[0;34m\u001b[0m\u001b[0;34m\u001b[0m\u001b[0m\n\u001b[0;32m---> 19\u001b[0;31m         \u001b[0mz\u001b[0m\u001b[0;34m,\u001b[0m \u001b[0mamp\u001b[0m\u001b[0;34m,\u001b[0m \u001b[0mfase\u001b[0m \u001b[0;34m=\u001b[0m \u001b[0mpol_sum\u001b[0m\u001b[0;34m(\u001b[0m\u001b[0;34m\"sub\"\u001b[0m\u001b[0;34m)\u001b[0m\u001b[0;34m\u001b[0m\u001b[0;34m\u001b[0m\u001b[0m\n\u001b[0m\u001b[1;32m     20\u001b[0m     \u001b[0;32melse\u001b[0m\u001b[0;34m:\u001b[0m\u001b[0;34m\u001b[0m\u001b[0;34m\u001b[0m\u001b[0m\n\u001b[1;32m     21\u001b[0m         \u001b[0mprint\u001b[0m\u001b[0;34m(\u001b[0m\u001b[0;34m\"opção inválida\"\u001b[0m\u001b[0;34m)\u001b[0m\u001b[0;34m\u001b[0m\u001b[0;34m\u001b[0m\u001b[0m\n",
            "\u001b[0;32m<ipython-input-2-2816650b0732>\u001b[0m in \u001b[0;36mpol_sum\u001b[0;34m(option)\u001b[0m\n\u001b[1;32m     23\u001b[0m         \u001b[0;32mfor\u001b[0m \u001b[0mi\u001b[0m \u001b[0;32min\u001b[0m \u001b[0mrange\u001b[0m\u001b[0;34m(\u001b[0m\u001b[0mquant\u001b[0m\u001b[0;34m)\u001b[0m\u001b[0;34m:\u001b[0m\u001b[0;34m\u001b[0m\u001b[0;34m\u001b[0m\u001b[0m\n\u001b[1;32m     24\u001b[0m             \u001b[0mlista_valores\u001b[0m\u001b[0;34m.\u001b[0m\u001b[0mappend\u001b[0m\u001b[0;34m(\u001b[0m\u001b[0minput\u001b[0m\u001b[0;34m(\u001b[0m\u001b[0;34m)\u001b[0m\u001b[0;34m)\u001b[0m\u001b[0;34m\u001b[0m\u001b[0;34m\u001b[0m\u001b[0m\n\u001b[0;32m---> 25\u001b[0;31m             \u001b[0mamp\u001b[0m\u001b[0;34m,\u001b[0m \u001b[0mfase\u001b[0m \u001b[0;34m=\u001b[0m \u001b[0mlista_valores\u001b[0m\u001b[0;34m[\u001b[0m\u001b[0mi\u001b[0m\u001b[0;34m]\u001b[0m\u001b[0;34m.\u001b[0m\u001b[0msplit\u001b[0m\u001b[0;34m(\u001b[0m\u001b[0;34m\" \"\u001b[0m\u001b[0;34m)\u001b[0m\u001b[0;34m\u001b[0m\u001b[0;34m\u001b[0m\u001b[0m\n\u001b[0m\u001b[1;32m     26\u001b[0m             \u001b[0mprint\u001b[0m\u001b[0;34m(\u001b[0m\u001b[0;34mf\"Amp:{amp}  Fase:{fase}\"\u001b[0m\u001b[0;34m)\u001b[0m\u001b[0;34m\u001b[0m\u001b[0;34m\u001b[0m\u001b[0m\n\u001b[1;32m     27\u001b[0m \u001b[0;34m\u001b[0m\u001b[0m\n",
            "\u001b[0;31mValueError\u001b[0m: not enough values to unpack (expected 2, got 1)"
          ]
        }
      ]
    }
  ]
}