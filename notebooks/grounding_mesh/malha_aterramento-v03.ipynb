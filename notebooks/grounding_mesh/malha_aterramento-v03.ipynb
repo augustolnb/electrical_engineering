{
  "nbformat": 4,
  "nbformat_minor": 0,
  "metadata": {
    "colab": {
      "provenance": [],
      "authorship_tag": "ABX9TyPUITSYBv8M7NCybBx89hGu",
      "include_colab_link": true
    },
    "kernelspec": {
      "name": "python3",
      "display_name": "Python 3"
    },
    "language_info": {
      "name": "python"
    }
  },
  "cells": [
    {
      "cell_type": "markdown",
      "metadata": {
        "id": "view-in-github",
        "colab_type": "text"
      },
      "source": [
        "<a href=\"https://colab.research.google.com/github/augustolnb/electrical_engineering/blob/main/malha_aterramento-v03.ipynb\" target=\"_parent\"><img src=\"https://colab.research.google.com/assets/colab-badge.svg\" alt=\"Open In Colab\"/></a>"
      ]
    },
    {
      "cell_type": "code",
      "source": [
        "import numpy as np"
      ],
      "metadata": {
        "id": "rVEWmdvLJoyR"
      },
      "execution_count": 1,
      "outputs": []
    },
    {
      "cell_type": "markdown",
      "source": [
        "#### Cálculo do condutor"
      ],
      "metadata": {
        "id": "vApVv8GeJbWh"
      }
    },
    {
      "cell_type": "code",
      "source": [
        "# Dimensionamento dos condutores\n",
        "\n",
        "def dimensiona_condutor():\n",
        "    # Calculo do condutor da malha\n",
        "    #i_falta = float(input(\"Corrente máxima de falta [A]: \"))\n",
        "    # Corrente de malha = 60% corrente de falta\n",
        "\n",
        "    # calculo da corrente de falta, totalmente diferente do que consta no pdf\n",
        "    #i_falta = 226.53 * s_cond_malha * np.sqrt((1/t_falta) * np.log((t_max_malha - t_amb) / (234 + t_amb) + 1))\n",
        "    #i_malha = 0.6 * i_falta\n",
        "\n",
        "    s_cond_lig = i_falta / (226.53 * np.sqrt((1/t_falta) * np.log((t_max_malha - t_amb) / (234 + t_amb) + 1)))\n",
        "    s_cond_malha = i_malha / (226.53 * np.sqrt((1/t_falta) * np.log((t_max_malha - t_amb) / (234 + t_amb) + 1)))\n",
        "\n",
        "    # Adicionar condicional para setar valores padronizados de condutores\n",
        "    '''\n",
        "    if(s_cond_lig < 35):\n",
        "        s_cond_lig = 35\n",
        "        print(\"Valor mínimo prático é de 35mm²\")\n",
        "    if(s_cond_malha < 35):\n",
        "        s_cond_malha = 35\n",
        "        print(\"Valor mínimo prático é de 35mm²\")\n",
        "    '''\n",
        "\n",
        "    # Diâmetro do condutor em metros [d >= 0.25.h]\n",
        "    diametro_cond = (np.sqrt(4 * s_cond_lig / np.pi)) / 1000\n",
        "\n",
        "\n",
        "    print(\"Condutor de ligação: {} mm²\".format(np.round(s_cond_lig, 2)))\n",
        "    print(\"\\nCondutor de malha: {} mm²\".format(np.round(s_cond_malha, 2)))\n",
        "    print(\"\\nDiâmetro do condutor de ligação: {} m\".format(np.round(diametro_cond, 5)))\n"
      ],
      "metadata": {
        "id": "mh5oyzprU-au"
      },
      "execution_count": 2,
      "outputs": []
    },
    {
      "cell_type": "markdown",
      "source": [
        "#### Cálculo da Resistência da Malha"
      ],
      "metadata": {
        "id": "x5A6toBBJj7P"
      }
    },
    {
      "cell_type": "code",
      "source": [
        "def resistencia_malha():\n",
        "\n",
        "    # Gera vetor de hastes, o numº de cada haste é a chave para um \n",
        "    # Dicionário que contém as coordenadas daquela haste\n",
        "    hastes = []\n",
        "    cont = 0\n",
        "    coordenadas = dict()\n",
        "    k = 0\n",
        "\n",
        "    for i in range(n_b):\n",
        "        hastes.append(np.round(np.arange(0, C_malha+1 , e), 1))\n",
        "\n",
        "    n_hastes = len(hastes) * len(np.arange(0, C_malha+1 , e))\n",
        "\n",
        "    # Comprimento total dos condutores\n",
        "    comp_hastes = n_hastes * L\n",
        "    comp_total = comp_cond + comp_hastes\n",
        "\n",
        "    while k < n_b:\n",
        "        for j in range(n_a):\n",
        "            coordenadas[cont] = j*e, k*e    # associa a haste à sua respectiva coordenada\n",
        "            cont += 1\n",
        "        k += 1\n",
        "\n",
        "    # Cálculo da matriz de resistências \n",
        "    # Matriz triangular, da diagonal para baixo ela repete o padrão da parte superior\n",
        "    r = np.zeros((n_hastes,n_hastes), dtype=float) # matriz de resistências\n",
        "\n",
        "    for i in range(n_hastes): # laço para percorrer linhas da matriz de coordenadas\n",
        "        for j in range(n_hastes): # laço para percorrer colunas da matriz de coordenadas\n",
        "            if(i==j): \n",
        "                r[i,j] = np.round(R,2)\n",
        "                #r_ind[i] += np.round(R,2)\n",
        "                continue\n",
        "            elif(i < j):\n",
        "                haste_ref = coordenadas[i]\n",
        "                hastezinha = coordenadas[j]\n",
        "                x = np.sqrt((haste_ref[0] - hastezinha[0])**2 + (haste_ref[1] - hastezinha[1])**2)\n",
        "                b = np.sqrt(x**2 + L**2)\n",
        "\n",
        "                if(x**2 == (b-L)**2):\n",
        "                    #r[i,j] = (411.8 / (4*np.pi*L)) * (np.log(((b+L)**2 - x**2) / (0.0001)))\n",
        "                    continue\n",
        "                else:\n",
        "                    r[i,j] = np.round((411.8 / (4*np.pi*L)) * (np.log(((b+L)**2 - x**2) / (x**2 - (b-L)**2))), 2)\n",
        "                    r[j, i] = r[i,j]\n",
        "                    \n",
        "    # Cálculo da resistência equivalente das hastes\n",
        "    r_ind = np.zeros(n_hastes)\n",
        "    r_eq = 0\n",
        "\n",
        "    for i in range(n_hastes): # laço para percorrer linhas da matriz de coordenadas\n",
        "        for j in range(n_hastes): # laço para percorrer colunas da matriz de coordenadas\n",
        "            r_ind[i] += r[i,j]\n",
        "\n",
        "        r_eq += 1/r_ind[i]\n",
        "\n",
        "    #print(\"\\nResistência equivalente das hastes: {} Ohm\".format(np.round(r_eq,4)))\n",
        "\n",
        "    # Resistência total da malha\n",
        "    r_total = rho_aparente * ((1/comp_total) + ((1/(np.sqrt(20*C_malha*L_malha)))*(1+(1/(1+(h*(np.sqrt(20/(C_malha*L_malha)))))))))\n",
        "    print(\"\\nResistência final [malha + hastes]: {} Ohm\".format(np.round(r_total,2)))\n",
        "    print(\"\\nNumº de hastes: {}\".format(n_hastes))\n",
        "\n",
        "    return r_total, n_hastes, comp_hastes, comp_total"
      ],
      "metadata": {
        "id": "pwADeys4ag50"
      },
      "execution_count": 3,
      "outputs": []
    },
    {
      "cell_type": "markdown",
      "source": [
        "#### Cálculo da Tensão de Toque"
      ],
      "metadata": {
        "id": "zHR1DQgZEQil"
      }
    },
    {
      "cell_type": "code",
      "source": [
        "def pot_toque(comp_hastes):\n",
        "    ki = 0.656 + 0.172 * N\n",
        "    #kii = 1/((2*N)**(2/N)) # P/ malhas sem hastes ou com poucas hastes\n",
        "    kii = 1\n",
        "    kh = np.sqrt(1+(h)) #Quanto vale h0??\n",
        "    km = 1/(2*np.pi) * (np.log((e**2/(16*h*d)) + (((e+2*h)**2)/(8*e*d)) - (h/(4*d))) + (kii/kh) * np.log(8/(np.pi*(2*N-1))))\n",
        "\n",
        "    v_toque_malha = (rho_aparente*km*ki*i_malha) / (comp_cond + 1.15*comp_hastes)\n",
        "\n",
        "    v_toque_max = 116 + 0.174 * rho_brita / np.sqrt(t_falta)\n",
        "\n",
        "    return v_toque_malha, v_toque_max"
      ],
      "metadata": {
        "id": "l-Q0U7RnEYTz"
      },
      "execution_count": 4,
      "outputs": []
    },
    {
      "cell_type": "markdown",
      "source": [
        "#### Cálculo da Tensão de Passo"
      ],
      "metadata": {
        "id": "lKCeZ28aRoSH"
      }
    },
    {
      "cell_type": "code",
      "source": [
        "def pot_passo(comp_total):\n",
        "    ki = 0.656 + 0.172 * N\n",
        "    kp = (1/np.pi) * ((1/(2*h)) + (1/(e+h)) + ((1/e) * (1-0.5**(N-2))))\n",
        "\n",
        "    v_passo_malha = (rho_aparente * kp * ki * i_malha) / comp_total\n",
        "    v_passo_max = (116 + 0.696*rho_brita) / np.sqrt(t_falta)\n",
        "\n",
        "    return v_passo_malha, v_passo_max"
      ],
      "metadata": {
        "id": "ApLBb78vRuUF"
      },
      "execution_count": 5,
      "outputs": []
    },
    {
      "cell_type": "markdown",
      "source": [
        "####Verifica os Dados"
      ],
      "metadata": {
        "id": "txofxwpK-h5W"
      }
    },
    {
      "cell_type": "code",
      "source": [
        "def verifica_dados(r_total, n_hastes):\n",
        "    print('\\n------------------------------------------------------------------------------------------------------------------------------------------------------------------------------------------------')\n",
        "    print('\\nComp. malha\\tLarg. malha\\tea\\teb\\te\\tL da haste\\tNº de hastes\\tR. da malha\\tPot. de Toque Calc.\\tPot. de Toque Max.\\tPot. de Passo Calc.\\tPot. de Passo Max\\n')\n",
        "    print(\"{} m\\t\\t{} m\\t\\t{} m\\t{} m\\t{} m\\t{} m\\t\\t{} \\t\\t{} Ω\\t\\t{} V\\t\\t\\t{} V\\t\\t{} V\\t\\t{} V\\n\".format(C_malha, L_malha, e_a, e_b, e, L, n_hastes, np.round(r_total,2), np.round(v_toque_malha,2), np.round(v_toque_max,2), np.round(v_passo_malha,2), np.round(v_passo_max,2)))\n",
        "    #print('\\n\\nPot. de Passo Calc.\\tPot. de Passo Max.\\n')\n",
        "    #print('{} V\\t\\t {} V\\n'.format(np.round(v_passo_malha,2), np.round(v_passo_max,2)))\n",
        "    print('------------------------------------------------------------------------------------------------------------------------------------------------------------------------------------------------')\n",
        "    if(int(r_total) < 10): print(\"\\nResistência: ok\")\n",
        "    else: print(\"\\nResistência: Recalcular\")\n",
        "    if(int(v_toque_malha) < int(v_toque_max)): print(\"\\nPot. de Toque: ok\")\n",
        "    else: print(\"\\nPot. de Toque: Recalcular\")\n",
        "    if(int(v_passo_malha) < int(v_passo_max)): print(\"\\nPot. de Passo: ok\")\n",
        "    else: print(\"\\nPot. de Passo: Recalcular\")"
      ],
      "metadata": {
        "id": "0C-47WH9-bms"
      },
      "execution_count": 28,
      "outputs": []
    },
    {
      "cell_type": "markdown",
      "source": [
        "##_Main()_"
      ],
      "metadata": {
        "id": "AF2cmRyp0sj5"
      }
    },
    {
      "cell_type": "code",
      "source": [
        "#####################################\n",
        "#              __main__             #\n",
        "#####################################\n",
        "\n",
        "#   t_amb           -> temperatura ambiente [ºC]\n",
        "#   t_max_malha     -> temperatura máxima do cabo da malha  [ºC]\n",
        "#   t_max_lig       -> temperatura máxima do cabo de ligação [ºC]\n",
        "#   s_cond          -> seção transversal do condutor [mm²]\n",
        "#   i_falta         -> corrente de falta [A]\n",
        "#   i_malha         -> corrente na malha - 60% * i_falta [A]\n",
        "#   t_falta         -> tempo de falta [s]\n",
        "#   L               -> Comprimento da haste [m]\n",
        "#   d               -> Diâmetro da haste [m]\n",
        "#   rho_aparente    -> Resistividade aparente do solo [Ohm.m]\n",
        "#   h               -> Profundidade da malha [m]\n",
        "#   C_malha         -> Comprimento da malha [m]\n",
        "#   L_malha         -> Largura da malha [m]\n",
        "#   e_a             -> Espaçamento dos condutores no comprimento [m]\n",
        "#   e_b             -> Espaçamento dos condutores na largura [m]\n",
        "#   e               -> Espaçamento entre as hastes [m]\n",
        "#   n_hastes        -> Numº de hastes [un]\n",
        "#   comp_total_cond -> Comprimento total do condutores [m]\n",
        "\n",
        "if __name__ == '__main__':\n",
        "\n",
        "    # Declaração de Variáveis\n",
        "\n",
        "    t_falta = 0.5\n",
        "    t_amb = 30\n",
        "    t_max_malha = 450\n",
        "    t_max_lig = 450\n",
        "    i_falta = 3200\n",
        "    i_malha = 1220 # 0.6 * i_falta\n",
        "    C_malha = 30\n",
        "    L_malha = 30\n",
        "    area_total = C_malha * L_malha\n",
        "    h = 0.6\n",
        "    L = 2\n",
        "    d = 0.025\n",
        "    rho_aparente = 411.8\n",
        "    rho_brita = 3000\n",
        "    e_a = 5 \n",
        "    e_b = 5\n",
        "    e = 7\n",
        "    n_a = int((C_malha/e_a) + 1)\n",
        "    n_b = int((L_malha/e_b) + 1)\n",
        "    comp_cond = C_malha * n_b + L_malha * n_a\n",
        "    N = np.sqrt(n_a / n_b)\n",
        "    R = (rho_aparente/(np.pi*2*L)) * np.log(4*L/d)\n",
        "\n",
        "    # Chamada dos métodos\n",
        "\n",
        "    dimensiona_condutor()\n",
        "    r_total, n_hastes, comp_hastes, comp_total = resistencia_malha()\n",
        "    v_toque_malha, v_toque_max = pot_toque(comp_hastes)\n",
        "    v_passo_malha, v_passo_max = pot_passo(comp_total)\n",
        "    verifica_dados(r_total, n_hastes)"
      ],
      "metadata": {
        "colab": {
          "base_uri": "https://localhost:8080/"
        },
        "id": "M0GV3oDi0qRy",
        "outputId": "3e9dc227-45e5-463f-a288-4531c92beaad"
      },
      "execution_count": 29,
      "outputs": [
        {
          "output_type": "stream",
          "name": "stdout",
          "text": [
            "Condutor de ligação: 10.24 mm²\n",
            "\n",
            "Condutor de malha: 3.9 mm²\n",
            "\n",
            "Diâmetro do condutor de ligação: 0.00361 m\n",
            "\n",
            "Resistência final [malha + hastes]: 6.73 Ohm\n",
            "\n",
            "Numº de hastes: 35\n",
            "\n",
            "------------------------------------------------------------------------------------------------------------------------------------------------------------------------------------------------\n",
            "\n",
            "Comp. malha\tLarg. malha\tea\teb\te\tL da haste\tNº de hastes\tR. da malha\tPot. de Toque Calc.\tPot. de Toque Max.\tPot. de Passo Calc.\tPot. de Passo Max\n",
            "\n",
            "30 m\t\t30 m\t\t5 m\t5 m\t7 m\t2 m\t\t35 \t\t6.73 Ω\t\t826.1 V\t\t\t854.22 V\t\t222.14 V\t\t3116.93 V\n",
            "\n",
            "------------------------------------------------------------------------------------------------------------------------------------------------------------------------------------------------\n",
            "\n",
            "Resistência: ok\n",
            "\n",
            "Pot. de Toque: ok\n",
            "\n",
            "Pot. de Passo: ok\n"
          ]
        }
      ]
    }
  ]
}