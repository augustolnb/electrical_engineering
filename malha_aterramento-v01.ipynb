{
  "nbformat": 4,
  "nbformat_minor": 0,
  "metadata": {
    "colab": {
      "provenance": [],
      "authorship_tag": "ABX9TyNwoYqJXLChHtSyrbmK5fWv",
      "include_colab_link": true
    },
    "kernelspec": {
      "name": "python3",
      "display_name": "Python 3"
    },
    "language_info": {
      "name": "python"
    }
  },
  "cells": [
    {
      "cell_type": "markdown",
      "metadata": {
        "id": "view-in-github",
        "colab_type": "text"
      },
      "source": [
        "<a href=\"https://colab.research.google.com/github/augustolnb/electrical_engineering/blob/main/malha_aterramento-v01.ipynb\" target=\"_parent\"><img src=\"https://colab.research.google.com/assets/colab-badge.svg\" alt=\"Open In Colab\"/></a>"
      ]
    },
    {
      "cell_type": "code",
      "source": [
        "import numpy as np"
      ],
      "metadata": {
        "id": "rVEWmdvLJoyR"
      },
      "execution_count": 1,
      "outputs": []
    },
    {
      "cell_type": "markdown",
      "source": [
        "#### Cálculo do condutor"
      ],
      "metadata": {
        "id": "vApVv8GeJbWh"
      }
    },
    {
      "cell_type": "code",
      "source": [
        "# Dimensionamento dos condutores\n",
        "\n",
        "# t_amb -> temperatura ambiente\n",
        "# t_max_malha -> temperatura máxima do cabo da malha\n",
        "# t_max_lig -> temperatura máxima do cabo de ligação\n",
        "# s_cond -> seção transversal do condutor [mm²]\n",
        "# i_falta -> corrente de falta\n",
        "# t_falta -> tempo de falta\n",
        "#\n",
        "#\n",
        "#\n",
        "\n",
        "t_falta = 0.5\n",
        "t_amb = 30\n",
        "t_max_malha = 450\n",
        "t_max_lig = 450\n",
        "i_falta = 3200\n",
        "i_malha = 1220\n",
        "\n",
        "# Calculo do condutor da malha\n",
        "#i_falta = float(input(\"Corrente máxima de falta [A]: \"))\n",
        "# Corrente de malha = 60% corrente de falta\n",
        "\n",
        "# calculo da corrente de falta, totalmente diferente do que consta no pdf\n",
        "#i_falta = 226.53 * s_cond_malha * np.sqrt((1/t_falta) * np.log((t_max_malha - t_amb) / (234 + t_amb) + 1))\n",
        "#i_malha = 0.6 * i_falta\n",
        "\n",
        "s_cond_lig = i_falta / (226.53 * np.sqrt((1/t_falta) * np.log((t_max_malha - t_amb) / (234 + t_amb) + 1)))\n",
        "s_cond_malha = i_malha / (226.53 * np.sqrt((1/t_falta) * np.log((t_max_malha - t_amb) / (234 + t_amb) + 1)))\n",
        "\n",
        "# Adicionar condicional para setar valores padronizados de condutores\n",
        "'''\n",
        "if(s_cond_lig < 35):\n",
        "    s_cond_lig = 35\n",
        "    print(\"Valor mínimo prático é de 35mm²\")\n",
        "if(s_cond_malha < 35):\n",
        "    s_cond_malha = 35\n",
        "    print(\"Valor mínimo prático é de 35mm²\")\n",
        "'''\n",
        "\n",
        "# Diâmetro do condutor em metros [d >= 0.25.h]\n",
        "diametro_cond = (np.sqrt(4 * s_cond_lig / np.pi)) / 1000\n",
        "\n",
        "\n",
        "print(\"Condutor de ligação: {} mm²\".format(np.round(s_cond_lig, 2)))\n",
        "print(\"\\nCondutor de malha: {} mm²\".format(np.round(s_cond_malha, 2)))\n",
        "print(\"\\nDiâmetro do condutor de ligação: {} m\".format(np.round(diametro_cond, 5)))\n"
      ],
      "metadata": {
        "colab": {
          "base_uri": "https://localhost:8080/"
        },
        "id": "mh5oyzprU-au",
        "outputId": "55b381dc-dffd-4b12-c2f8-dbb6f87dce73"
      },
      "execution_count": 2,
      "outputs": [
        {
          "output_type": "stream",
          "name": "stdout",
          "text": [
            "Condutor de ligação: 10.24 mm²\n",
            "\n",
            "Condutor de malha: 3.9 mm²\n",
            "\n",
            "Diâmetro do condutor de ligação: 0.00361 m\n"
          ]
        }
      ]
    },
    {
      "cell_type": "markdown",
      "source": [
        "#### Cálculo da Resistência da Malha"
      ],
      "metadata": {
        "id": "x5A6toBBJj7P"
      }
    },
    {
      "cell_type": "code",
      "execution_count": 2,
      "metadata": {
        "id": "T5OurKFANstq",
        "colab": {
          "base_uri": "https://localhost:8080/"
        },
        "outputId": "b1531a0a-22af-4654-b6b9-34c18cc77177"
      },
      "outputs": [
        {
          "output_type": "stream",
          "name": "stdout",
          "text": [
            "Resistencia de uma haste individual: 87.62 Ohms\n",
            "\n"
          ]
        }
      ],
      "source": [
        "# Resistência de uma haste isolada\n",
        "#\n",
        "#   R = (rho_aparente/(np.pi*2*L)*np.ln(4*L/d))\n",
        "#   \n",
        "#   onde:\n",
        "#   L               -> Comprimento da haste [m]\n",
        "#   d               -> Diâmetro da haste [m]\n",
        "#   rho_aparente    -> Resistividade aparente do solo [Ohm.m]\n",
        "#   h               -> Profundidade da malha [m]\n",
        "#   C_malha         -> Comprimento da malha [m]\n",
        "#   L_malha         -> Largura da malha [m]\n",
        "#   e_a             -> Espaçamento dos condutores no comprimento\n",
        "#   e_b             -> Espaçamento dos condutores na largura\n",
        "#   n_hastes        -> Numº de hastes [un]\n",
        "#   comp_total_cond -> Comprimento total do condutores [m]\n",
        "\n",
        "C_malha = 5\n",
        "L_malha = 10\n",
        "h = 0.6\n",
        "L = 5\n",
        "d = 0.025\n",
        "rho_aparente = 411.8\n",
        "e_a = 5 # Espaçamentos entre os condutores da malha, no comprimento\n",
        "e_b = 5 # Espaçamentos entre os condutores da malha, na largura\n",
        "e = 5 # Espaçamentos entre as hastes\n",
        "\n",
        "area_total = C_malha * L_malha\n",
        "n_a = int((C_malha/e_a) + 1)\n",
        "n_b = int((L_malha/e_b) + 1)\n",
        "comp_total_cond = C_malha * n_b + L_malha * n_a\n",
        "#comp_total_hastes = n_hastes * L\n",
        "#comp_total = comp_total_cond + comp_total_hastes\n",
        "\n",
        "#print(comp_total)\n",
        "\n",
        "#######################################################\n",
        "# Calcular Resistência\n",
        "\n",
        "# Resistência de uma haste individual - Diagonal principal da matriz de resistências\n",
        "R = (rho_aparente/(np.pi*2*L)) * np.log(4*L/d)\n",
        "print(\"Resistencia de uma haste individual: {} Ohms\\n\".format(np.round(R, 2)))"
      ]
    },
    {
      "cell_type": "code",
      "source": [
        "# Gera vetor de hastes, o numº de cada haste é a chave para um \n",
        "# Dicionário que contém as coordenadas daquela haste\n",
        "\n",
        "hastes = []\n",
        "for i in range(n_b):\n",
        "    hastes.append(np.round(np.arange(0, C_malha+1 , e), 1))\n",
        "\n",
        "n_hastes = len(hastes) * len(np.arange(0, C_malha+1 , e))\n",
        "hastes = np.array(hastes).reshape((1, n_hastes))\n",
        "\n",
        "for i in range(n_hastes):\n",
        "    hastes[0,i] = i+1\n",
        "print(hastes)"
      ],
      "metadata": {
        "colab": {
          "base_uri": "https://localhost:8080/"
        },
        "id": "pwADeys4ag50",
        "outputId": "907c305b-1c98-45f0-848f-18d8dc987d0b"
      },
      "execution_count": 3,
      "outputs": [
        {
          "output_type": "stream",
          "name": "stdout",
          "text": [
            "[[1 2 3 4 5 6]]\n"
          ]
        }
      ]
    },
    {
      "cell_type": "code",
      "source": [
        "cont = 1\n",
        "coordenadas = dict()\n",
        "k = 0\n",
        "while k < n_b:\n",
        "    for j in range(n_a):\n",
        "#        print(\"\\n\\nCoordenadas: \")\n",
        "#        print(\"({},{})\".format(j*e,k*e))\n",
        "        coordenadas[cont] = j*e, k*e\n",
        "        cont += 1\n",
        "    k += 1"
      ],
      "metadata": {
        "id": "vt-STvwkSqlh"
      },
      "execution_count": 5,
      "outputs": []
    },
    {
      "cell_type": "code",
      "source": [
        "haste_ref = coordenadas[3]\n",
        "print(haste_ref)\n",
        "hastezinha = coordenadas[5]\n",
        "print(hastezinha)\n",
        "\n",
        "x = np.sqrt((haste_ref[0] - hastezinha[0])**2 + (haste_ref[1] - hastezinha[1])**2)\n",
        "b = np.sqrt(x**2 + L**2)\n",
        "\n",
        "r_int = (411.8 / (4*np.pi*L)) * (np.log(((b+L)**2 - x**2) / (x**2 - (b-L)**2)))\n",
        "\n",
        "print(np.round(r_int,2))\n"
      ],
      "metadata": {
        "colab": {
          "base_uri": "https://localhost:8080/"
        },
        "id": "L41xlstxamxc",
        "outputId": "a5e3be2a-ac8f-442a-e064-731bd9a4e080"
      },
      "execution_count": 27,
      "outputs": [
        {
          "output_type": "stream",
          "name": "stdout",
          "text": [
            "(0, 5)\n",
            "(0, 10)\n",
            "11.55\n"
          ]
        }
      ]
    },
    {
      "cell_type": "code",
      "source": [
        "# Cálculo da matriz de resistências \n",
        "# Matriz triangular, da diagonal para baixo ela repete o padrão da parte superior\n",
        "r = np.zeros((n_hastes,n_hastes), dtype=float)\n",
        "\n",
        "for i in range(n_hastes): # laço para percorrer linhas da matriz de coordenadas\n",
        "    haste_ref = coordenadas[i]\n",
        "    for j in range(n_hastes): # laço para percorrer colunas da matriz de coordenadas\n",
        "        if(i==j): \n",
        "            r[i,j] = R\n",
        "            continue\n",
        "        elif(i < j):\n",
        "            x = np.sqrt((coord_h[i,i] - coord_h[])**2 + ()**2) # distancia entre as hastes\n",
        "\n"
      ],
      "metadata": {
        "colab": {
          "base_uri": "https://localhost:8080/"
        },
        "id": "aY09mRi_il_7",
        "outputId": "4238ce8f-3909-41f2-c8f0-a8d1668a7a2c"
      },
      "execution_count": 33,
      "outputs": [
        {
          "output_type": "stream",
          "name": "stdout",
          "text": [
            "(35, 35)\n"
          ]
        }
      ]
    },
    {
      "cell_type": "code",
      "source": [
        "for i in range(r.shape[0]):\n",
        "    for j in range(r.shape[1]):\n",
        "#        print(r[i,j])\n",
        "        if(i == j):\n",
        "            continue\n",
        "#        x = np.sqrt((r[i,i] - r[i,j])**2 + (i*e_b - )**2)\n",
        "\n",
        "#print(r[])"
      ],
      "metadata": {
        "id": "n15LJ4r26L3z"
      },
      "execution_count": null,
      "outputs": []
    },
    {
      "cell_type": "code",
      "source": [
        "b = float(input(\"Valor da diagonal: \"))\n",
        "e = float(input(\"Espaçamento superficial entre as hastes: \"))\n",
        "r_ind = (411.8 / (4*np.pi*L)) * (np.log(((b+L)**2 - e**2) / (e**2 - (b-L)**2)))\n",
        "print(np.round(r_ind,2))"
      ],
      "metadata": {
        "colab": {
          "base_uri": "https://localhost:8080/"
        },
        "id": "DZOIWUVk8Rq5",
        "outputId": "00be2e9b-38ce-42a3-a602-a95d107091ab"
      },
      "execution_count": 41,
      "outputs": [
        {
          "output_type": "stream",
          "name": "stdout",
          "text": [
            "Valor da diagonal: 12.24\n",
            "Espaçamento superficial entre as hastes: 11.2\n",
            "5.61\n"
          ]
        }
      ]
    }
  ]
}